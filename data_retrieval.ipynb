{
 "cells": [
  {
   "cell_type": "code",
   "execution_count": 14,
   "metadata": {},
   "outputs": [],
   "source": [
    "import pandas as pd\n",
    "import requests\n",
    "from bs4 import BeautifulSoup\n",
    "import os"
   ]
  },
  {
   "cell_type": "code",
   "execution_count": 15,
   "metadata": {},
   "outputs": [],
   "source": [
    "path = (r'C:\\Users\\namit\\OneDrive\\Desktop\\blackCoffer\\new attempt\\Input.xlsx')\n",
    "df = pd.read_excel(path)"
   ]
  },
  {
   "cell_type": "code",
   "execution_count": 16,
   "metadata": {},
   "outputs": [],
   "source": [
    "df.columns = ['urlid' , 'url']"
   ]
  },
  {
   "cell_type": "code",
   "execution_count": 43,
   "metadata": {},
   "outputs": [],
   "source": [
    "def extract_heading_text_and_save(url, urlid):\n",
    "\n",
    "    r = requests.get(url)\n",
    "    if r.status_code == 200:\n",
    "        soup = BeautifulSoup(r.text , 'html.parser')\n",
    "        title = soup.find(\"h1\").get_text()\n",
    "        article = soup.find(\"div\" , class_=\"td_block_wrap tdb_single_content tdi_130 td-pb-border-top td_block_template_1 td-post-content tagdiv-type\").text\n",
    "        final_str = title + \"\\n\" + article\n",
    "        file_name = f\"{urlid}.txt\"\n",
    "        with open (file_name , 'w' , encoding=\"UTF-8\") as file:\n",
    "            file.write(final_str)\n",
    "            print(f\" Text extracted from {url} saved to {file_name}\")\n",
    "    else :\n",
    "        print(f\"Failed to fetch url : {url}\") "
   ]
  },
  {
   "cell_type": "code",
   "execution_count": null,
   "metadata": {},
   "outputs": [],
   "source": [
    "def extract_heading_text_and_save(url, urlid):\n",
    "\n",
    "    r = requests.get(url)\n",
    "    if r.status_code == 200:\n",
    "        soup = BeautifulSoup(r.text , 'html.parser')\n",
    "        title = soup.find(\"h1\").get_text()\n",
    "        final_str = title + \"\\n\"\n",
    "        article = soup.find('div' , class_ = \"tdb-block-inner td-fix-index\")\n",
    "        if article:\n",
    "            # Find all p tags within the div\n",
    "            p_tags = article.find_all('p')    \n",
    "        # Extract text from each p tag and print\n",
    "        for p in p_tags:\n",
    "            final_str= final_str + p.get_text()\n",
    "        file_name = f\"{urlid}.txt\"\n",
    "        with open (file_name , 'w' , encoding=\"UTF-8\") as file:\n",
    "            file.write(final_str)\n",
    "            print(f\" Text extracted from {url} saved to {file_name}\")\n",
    "    else :\n",
    "        print(f\"Failed to fetch url : {url}\") "
   ]
  },
  {
   "cell_type": "code",
   "execution_count": 45,
   "metadata": {},
   "outputs": [
    {
     "name": "stdout",
     "output_type": "stream",
     "text": [
      " Text extracted from https://insights.blackcoffer.com/how-covid-19-is-impacting-payment-preferences/ saved to blackassign0099.txt\n",
      " Text extracted from https://insights.blackcoffer.com/how-will-covid-19-affect-the-world-of-work-2/ saved to blackassign0100.txt\n"
     ]
    }
   ],
   "source": [
    "for index, row in df.iloc[98:].iterrows():\n",
    "    url = row['url']\n",
    "    urlid = row['urlid']\n",
    "    extract_heading_text_and_save(url, urlid)    "
   ]
  },
  {
   "cell_type": "code",
   "execution_count": 44,
   "metadata": {},
   "outputs": [
    {
     "name": "stdout",
     "output_type": "stream",
     "text": [
      " https://insights.blackcoffer.com/how-covid-19-is-impacting-payment-preferences/ \n",
      " blackassign0099 \n"
     ]
    }
   ],
   "source": [
    "url = df.iloc[98,1]\n",
    "urlid = df.iloc[98,0]\n",
    "print(f''' {url} \\n {urlid} ''')"
   ]
  },
  {
   "cell_type": "code",
   "execution_count": 19,
   "metadata": {},
   "outputs": [
    {
     "name": "stdout",
     "output_type": "stream",
     "text": [
      " Text extracted from https://insights.blackcoffer.com/ai-in-healthcare-to-improve-patient-outcomes/ saved to blackassign0029.txt\n"
     ]
    }
   ],
   "source": [
    "extract_heading_text_and_save(url, urlid)"
   ]
  }
 ],
 "metadata": {
  "kernelspec": {
   "display_name": "Python 3",
   "language": "python",
   "name": "python3"
  },
  "language_info": {
   "codemirror_mode": {
    "name": "ipython",
    "version": 3
   },
   "file_extension": ".py",
   "mimetype": "text/x-python",
   "name": "python",
   "nbconvert_exporter": "python",
   "pygments_lexer": "ipython3",
   "version": "3.11.3"
  }
 },
 "nbformat": 4,
 "nbformat_minor": 2
}
